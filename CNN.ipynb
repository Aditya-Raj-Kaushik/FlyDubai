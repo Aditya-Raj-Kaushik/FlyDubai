{
  "nbformat": 4,
  "nbformat_minor": 0,
  "metadata": {
    "colab": {
      "provenance": [],
      "gpuType": "T4",
      "authorship_tag": "ABX9TyPbFeg1+jQYfkkvv0CA7z2B",
      "include_colab_link": true
    },
    "kernelspec": {
      "name": "python3",
      "display_name": "Python 3"
    },
    "language_info": {
      "name": "python"
    },
    "accelerator": "GPU",
    "widgets": {
      "application/vnd.jupyter.widget-state+json": {
        "9b10034b5b254c3f8c5b89688f912aa3": {
          "model_module": "@jupyter-widgets/controls",
          "model_name": "HBoxModel",
          "model_module_version": "1.5.0",
          "state": {
            "_dom_classes": [],
            "_model_module": "@jupyter-widgets/controls",
            "_model_module_version": "1.5.0",
            "_model_name": "HBoxModel",
            "_view_count": null,
            "_view_module": "@jupyter-widgets/controls",
            "_view_module_version": "1.5.0",
            "_view_name": "HBoxView",
            "box_style": "",
            "children": [
              "IPY_MODEL_37dba1e769ae4cc8b136cd7bb841236f",
              "IPY_MODEL_84239e14cbaa4f22b91ffb889337799b",
              "IPY_MODEL_e71ff4e3a84d401586dc85c2005e6105"
            ],
            "layout": "IPY_MODEL_4680eed0f1ed46528f2693305d33c06d"
          }
        },
        "37dba1e769ae4cc8b136cd7bb841236f": {
          "model_module": "@jupyter-widgets/controls",
          "model_name": "HTMLModel",
          "model_module_version": "1.5.0",
          "state": {
            "_dom_classes": [],
            "_model_module": "@jupyter-widgets/controls",
            "_model_module_version": "1.5.0",
            "_model_name": "HTMLModel",
            "_view_count": null,
            "_view_module": "@jupyter-widgets/controls",
            "_view_module_version": "1.5.0",
            "_view_name": "HTMLView",
            "description": "",
            "description_tooltip": null,
            "layout": "IPY_MODEL_f1f8876031114b58bc9b32426739ff9c",
            "placeholder": "​",
            "style": "IPY_MODEL_699025aa44a640eab355df3096f60113",
            "value": "100%"
          }
        },
        "84239e14cbaa4f22b91ffb889337799b": {
          "model_module": "@jupyter-widgets/controls",
          "model_name": "FloatProgressModel",
          "model_module_version": "1.5.0",
          "state": {
            "_dom_classes": [],
            "_model_module": "@jupyter-widgets/controls",
            "_model_module_version": "1.5.0",
            "_model_name": "FloatProgressModel",
            "_view_count": null,
            "_view_module": "@jupyter-widgets/controls",
            "_view_module_version": "1.5.0",
            "_view_name": "ProgressView",
            "bar_style": "success",
            "description": "",
            "description_tooltip": null,
            "layout": "IPY_MODEL_881f590c5ae0414db072871ce3ce0962",
            "max": 10,
            "min": 0,
            "orientation": "horizontal",
            "style": "IPY_MODEL_ff4fe8ecf80e40be89643f9b77c9dcf3",
            "value": 10
          }
        },
        "e71ff4e3a84d401586dc85c2005e6105": {
          "model_module": "@jupyter-widgets/controls",
          "model_name": "HTMLModel",
          "model_module_version": "1.5.0",
          "state": {
            "_dom_classes": [],
            "_model_module": "@jupyter-widgets/controls",
            "_model_module_version": "1.5.0",
            "_model_name": "HTMLModel",
            "_view_count": null,
            "_view_module": "@jupyter-widgets/controls",
            "_view_module_version": "1.5.0",
            "_view_name": "HTMLView",
            "description": "",
            "description_tooltip": null,
            "layout": "IPY_MODEL_2794975eab134deaa8c83875f2c519a8",
            "placeholder": "​",
            "style": "IPY_MODEL_ab49bb25fd6d4236b393c2f0e5fe90ce",
            "value": " 10/10 [05:37&lt;00:00, 36.38s/it]"
          }
        },
        "4680eed0f1ed46528f2693305d33c06d": {
          "model_module": "@jupyter-widgets/base",
          "model_name": "LayoutModel",
          "model_module_version": "1.2.0",
          "state": {
            "_model_module": "@jupyter-widgets/base",
            "_model_module_version": "1.2.0",
            "_model_name": "LayoutModel",
            "_view_count": null,
            "_view_module": "@jupyter-widgets/base",
            "_view_module_version": "1.2.0",
            "_view_name": "LayoutView",
            "align_content": null,
            "align_items": null,
            "align_self": null,
            "border": null,
            "bottom": null,
            "display": null,
            "flex": null,
            "flex_flow": null,
            "grid_area": null,
            "grid_auto_columns": null,
            "grid_auto_flow": null,
            "grid_auto_rows": null,
            "grid_column": null,
            "grid_gap": null,
            "grid_row": null,
            "grid_template_areas": null,
            "grid_template_columns": null,
            "grid_template_rows": null,
            "height": null,
            "justify_content": null,
            "justify_items": null,
            "left": null,
            "margin": null,
            "max_height": null,
            "max_width": null,
            "min_height": null,
            "min_width": null,
            "object_fit": null,
            "object_position": null,
            "order": null,
            "overflow": null,
            "overflow_x": null,
            "overflow_y": null,
            "padding": null,
            "right": null,
            "top": null,
            "visibility": null,
            "width": null
          }
        },
        "f1f8876031114b58bc9b32426739ff9c": {
          "model_module": "@jupyter-widgets/base",
          "model_name": "LayoutModel",
          "model_module_version": "1.2.0",
          "state": {
            "_model_module": "@jupyter-widgets/base",
            "_model_module_version": "1.2.0",
            "_model_name": "LayoutModel",
            "_view_count": null,
            "_view_module": "@jupyter-widgets/base",
            "_view_module_version": "1.2.0",
            "_view_name": "LayoutView",
            "align_content": null,
            "align_items": null,
            "align_self": null,
            "border": null,
            "bottom": null,
            "display": null,
            "flex": null,
            "flex_flow": null,
            "grid_area": null,
            "grid_auto_columns": null,
            "grid_auto_flow": null,
            "grid_auto_rows": null,
            "grid_column": null,
            "grid_gap": null,
            "grid_row": null,
            "grid_template_areas": null,
            "grid_template_columns": null,
            "grid_template_rows": null,
            "height": null,
            "justify_content": null,
            "justify_items": null,
            "left": null,
            "margin": null,
            "max_height": null,
            "max_width": null,
            "min_height": null,
            "min_width": null,
            "object_fit": null,
            "object_position": null,
            "order": null,
            "overflow": null,
            "overflow_x": null,
            "overflow_y": null,
            "padding": null,
            "right": null,
            "top": null,
            "visibility": null,
            "width": null
          }
        },
        "699025aa44a640eab355df3096f60113": {
          "model_module": "@jupyter-widgets/controls",
          "model_name": "DescriptionStyleModel",
          "model_module_version": "1.5.0",
          "state": {
            "_model_module": "@jupyter-widgets/controls",
            "_model_module_version": "1.5.0",
            "_model_name": "DescriptionStyleModel",
            "_view_count": null,
            "_view_module": "@jupyter-widgets/base",
            "_view_module_version": "1.2.0",
            "_view_name": "StyleView",
            "description_width": ""
          }
        },
        "881f590c5ae0414db072871ce3ce0962": {
          "model_module": "@jupyter-widgets/base",
          "model_name": "LayoutModel",
          "model_module_version": "1.2.0",
          "state": {
            "_model_module": "@jupyter-widgets/base",
            "_model_module_version": "1.2.0",
            "_model_name": "LayoutModel",
            "_view_count": null,
            "_view_module": "@jupyter-widgets/base",
            "_view_module_version": "1.2.0",
            "_view_name": "LayoutView",
            "align_content": null,
            "align_items": null,
            "align_self": null,
            "border": null,
            "bottom": null,
            "display": null,
            "flex": null,
            "flex_flow": null,
            "grid_area": null,
            "grid_auto_columns": null,
            "grid_auto_flow": null,
            "grid_auto_rows": null,
            "grid_column": null,
            "grid_gap": null,
            "grid_row": null,
            "grid_template_areas": null,
            "grid_template_columns": null,
            "grid_template_rows": null,
            "height": null,
            "justify_content": null,
            "justify_items": null,
            "left": null,
            "margin": null,
            "max_height": null,
            "max_width": null,
            "min_height": null,
            "min_width": null,
            "object_fit": null,
            "object_position": null,
            "order": null,
            "overflow": null,
            "overflow_x": null,
            "overflow_y": null,
            "padding": null,
            "right": null,
            "top": null,
            "visibility": null,
            "width": null
          }
        },
        "ff4fe8ecf80e40be89643f9b77c9dcf3": {
          "model_module": "@jupyter-widgets/controls",
          "model_name": "ProgressStyleModel",
          "model_module_version": "1.5.0",
          "state": {
            "_model_module": "@jupyter-widgets/controls",
            "_model_module_version": "1.5.0",
            "_model_name": "ProgressStyleModel",
            "_view_count": null,
            "_view_module": "@jupyter-widgets/base",
            "_view_module_version": "1.2.0",
            "_view_name": "StyleView",
            "bar_color": null,
            "description_width": ""
          }
        },
        "2794975eab134deaa8c83875f2c519a8": {
          "model_module": "@jupyter-widgets/base",
          "model_name": "LayoutModel",
          "model_module_version": "1.2.0",
          "state": {
            "_model_module": "@jupyter-widgets/base",
            "_model_module_version": "1.2.0",
            "_model_name": "LayoutModel",
            "_view_count": null,
            "_view_module": "@jupyter-widgets/base",
            "_view_module_version": "1.2.0",
            "_view_name": "LayoutView",
            "align_content": null,
            "align_items": null,
            "align_self": null,
            "border": null,
            "bottom": null,
            "display": null,
            "flex": null,
            "flex_flow": null,
            "grid_area": null,
            "grid_auto_columns": null,
            "grid_auto_flow": null,
            "grid_auto_rows": null,
            "grid_column": null,
            "grid_gap": null,
            "grid_row": null,
            "grid_template_areas": null,
            "grid_template_columns": null,
            "grid_template_rows": null,
            "height": null,
            "justify_content": null,
            "justify_items": null,
            "left": null,
            "margin": null,
            "max_height": null,
            "max_width": null,
            "min_height": null,
            "min_width": null,
            "object_fit": null,
            "object_position": null,
            "order": null,
            "overflow": null,
            "overflow_x": null,
            "overflow_y": null,
            "padding": null,
            "right": null,
            "top": null,
            "visibility": null,
            "width": null
          }
        },
        "ab49bb25fd6d4236b393c2f0e5fe90ce": {
          "model_module": "@jupyter-widgets/controls",
          "model_name": "DescriptionStyleModel",
          "model_module_version": "1.5.0",
          "state": {
            "_model_module": "@jupyter-widgets/controls",
            "_model_module_version": "1.5.0",
            "_model_name": "DescriptionStyleModel",
            "_view_count": null,
            "_view_module": "@jupyter-widgets/base",
            "_view_module_version": "1.2.0",
            "_view_name": "StyleView",
            "description_width": ""
          }
        }
      }
    }
  },
  "cells": [
    {
      "cell_type": "markdown",
      "metadata": {
        "id": "view-in-github",
        "colab_type": "text"
      },
      "source": [
        "<a href=\"https://colab.research.google.com/github/Aditya-Raj-Kaushik/FlyDubai/blob/main/CNN.ipynb\" target=\"_parent\"><img src=\"https://colab.research.google.com/assets/colab-badge.svg\" alt=\"Open In Colab\"/></a>"
      ]
    },
    {
      "cell_type": "code",
      "execution_count": 2,
      "metadata": {
        "colab": {
          "base_uri": "https://localhost:8080/"
        },
        "id": "0wGo46nkQMpS",
        "outputId": "0c798b07-0a90-414c-f813-c0d30fdb2f16"
      },
      "outputs": [
        {
          "output_type": "stream",
          "name": "stdout",
          "text": [
            "<class 'pandas.core.frame.DataFrame'>\n",
            "RangeIndex: 1000000 entries, 0 to 999999\n",
            "Data columns (total 32 columns):\n",
            " #   Column                                       Non-Null Count    Dtype  \n",
            "---  ------                                       --------------    -----  \n",
            " 0   Flight Number                                1000000 non-null  int64  \n",
            " 1   Day of Operation                             1000000 non-null  object \n",
            " 2   STA (Standard Time of Arrival)               1000000 non-null  object \n",
            " 3   ETA (Estimated Time of Arrival)              1000000 non-null  object \n",
            " 4   ATA (Actual Time of Arrival)                 1000000 non-null  object \n",
            " 5   ETD (Estimated Time of Departure)            1000000 non-null  object \n",
            " 6   ATD (Actual Time of Departure)               1000000 non-null  object \n",
            " 7   Airport Terminal Number                      1000000 non-null  int64  \n",
            " 8   Passenger Connecting Time (mins)             1000000 non-null  int64  \n",
            " 9   Number of Checked-in Passengers              1000000 non-null  int64  \n",
            " 10  Number of Checked-in Infant Passengers       1000000 non-null  int64  \n",
            " 11  Passenger Class of Travel                    1000000 non-null  object \n",
            " 12  Reservation Status                           1000000 non-null  object \n",
            " 13  Sequence Number (Checked-in)                 1000000 non-null  int64  \n",
            " 14  Seat Number                                  1000000 non-null  int64  \n",
            " 15  Onward Connection Indicator                  1000000 non-null  int64  \n",
            " 16  Number of Baggage Items                      1000000 non-null  int64  \n",
            " 17  Weight of Baggage (kg)                       1000000 non-null  int64  \n",
            " 18  Baggage Status                               1000000 non-null  object \n",
            " 19  Baggage Not Loaded Indicator                 1000000 non-null  int64  \n",
            " 20  Baggage Not Seen for Loading Indicator       1000000 non-null  int64  \n",
            " 21  Interline Flight Indicator                   1000000 non-null  int64  \n",
            " 22  Arrival Delay (mins)                         1000000 non-null  int64  \n",
            " 23  Departure Delay (mins)                       1000000 non-null  int64  \n",
            " 24  Passenger Irregularity Report (PIR) Created  1000000 non-null  int64  \n",
            " 25  Baggage Traced                               1000000 non-null  int64  \n",
            " 26  Baggage Delivered                            1000000 non-null  int64  \n",
            " 27  Baggage Not Traced                           1000000 non-null  int64  \n",
            " 28  Airport Terminal Congestion Level            1000000 non-null  object \n",
            " 29  Gate Congestion Level                        1000000 non-null  object \n",
            " 30  Weather Conditions                           1000000 non-null  object \n",
            " 31  Passenger Mishandling Probability (%)        1000000 non-null  float64\n",
            "dtypes: float64(1), int64(19), object(12)\n",
            "memory usage: 244.1+ MB\n",
            "None\n",
            "   Flight Number Day of Operation STA (Standard Time of Arrival)  \\\n",
            "0           1101               MO            2025-01-01 05:01:00   \n",
            "1           5280               MO            2025-01-01 18:59:00   \n",
            "2           7834               TU            2025-01-01 03:27:00   \n",
            "3           1986               MO            2025-01-01 16:38:00   \n",
            "4           9715               SU            2025-01-01 12:42:00   \n",
            "\n",
            "  ETA (Estimated Time of Arrival) ATA (Actual Time of Arrival)  \\\n",
            "0             2025-01-01 05:04:00          2025-01-01 04:30:00   \n",
            "1             2025-01-01 19:01:00          2025-01-01 19:08:00   \n",
            "2             2025-01-01 03:35:00          2025-01-01 03:22:00   \n",
            "3             2025-01-01 17:00:00          2025-01-01 17:59:00   \n",
            "4             2025-01-01 12:52:00          2025-01-01 12:42:00   \n",
            "\n",
            "  ETD (Estimated Time of Departure) ATD (Actual Time of Departure)  \\\n",
            "0               2025-01-01 05:39:00            2025-01-01 05:19:00   \n",
            "1               2025-01-01 19:55:00            2025-01-01 20:07:00   \n",
            "2               2025-01-01 04:49:00            2025-01-01 05:42:00   \n",
            "3               2025-01-01 20:17:00            2025-01-01 19:59:00   \n",
            "4               2025-01-01 14:40:00            2025-01-01 14:02:00   \n",
            "\n",
            "   Airport Terminal Number  Passenger Connecting Time (mins)  \\\n",
            "0                        3                               178   \n",
            "1                        4                               120   \n",
            "2                        2                               144   \n",
            "3                        3                                84   \n",
            "4                        4                                58   \n",
            "\n",
            "   Number of Checked-in Passengers  ...  Arrival Delay (mins)  \\\n",
            "0                              101  ...                    43   \n",
            "1                              102  ...                    44   \n",
            "2                               95  ...                    49   \n",
            "3                              110  ...                    95   \n",
            "4                              155  ...                    60   \n",
            "\n",
            "  Departure Delay (mins) Passenger Irregularity Report (PIR) Created  \\\n",
            "0                     96                                           0   \n",
            "1                     58                                           1   \n",
            "2                    105                                           1   \n",
            "3                     22                                           1   \n",
            "4                     25                                           0   \n",
            "\n",
            "   Baggage Traced  Baggage Delivered  Baggage Not Traced  \\\n",
            "0               0                  1                   1   \n",
            "1               0                  1                   1   \n",
            "2               1                  1                   0   \n",
            "3               0                  1                   1   \n",
            "4               0                  1                   0   \n",
            "\n",
            "   Airport Terminal Congestion Level  Gate Congestion Level  \\\n",
            "0                                Low                    Low   \n",
            "1                                Low                    Low   \n",
            "2                             Medium                    Low   \n",
            "3                                Low                    Low   \n",
            "4                                Low                 Medium   \n",
            "\n",
            "  Weather Conditions  Passenger Mishandling Probability (%)  \n",
            "0              Rainy                                   32.1  \n",
            "1              Clear                                   54.8  \n",
            "2             Stormy                                   90.7  \n",
            "3             Stormy                                  100.0  \n",
            "4             Stormy                                   48.0  \n",
            "\n",
            "[5 rows x 32 columns]\n"
          ]
        }
      ],
      "source": [
        "import pandas as pd\n",
        "\n",
        "df = pd.read_csv('/content/passenger_mishandling_large_dataset.csv')\n",
        "\n",
        "print(df.info())\n",
        "print(df.head())\n"
      ]
    },
    {
      "cell_type": "code",
      "source": [
        "import pandas as pd\n",
        "import numpy as np\n",
        "from sklearn.preprocessing import LabelEncoder, StandardScaler\n",
        "\n",
        "\n",
        "### --- 1. Drop columns with too many missing values or irrelevant IDs\n",
        "threshold = 0.6  # drop if >60% values missing\n",
        "df = df.loc[:, df.isnull().mean() < threshold]\n",
        "\n",
        "# Optional: Drop ID columns\n",
        "id_cols = [col for col in df.columns if 'id' in col.lower()]\n",
        "df.drop(columns=id_cols, inplace=True, errors='ignore')\n",
        "\n",
        "### --- 2. Convert datetime columns\n",
        "datetime_cols = ['STA', 'ETA', 'ATA', 'ETD', 'ATD']\n",
        "for col in datetime_cols:\n",
        "    if col in df.columns:\n",
        "        df[col] = pd.to_datetime(df[col], errors='coerce')\n",
        "\n",
        "# Feature engineering: calculate delays in minutes\n",
        "if {'ATA', 'ETA'}.issubset(df.columns):\n",
        "    df['Arrival_Delay_Min'] = (df['ATA'] - df['ETA']).dt.total_seconds() / 60\n",
        "if {'ATD', 'ETD'}.issubset(df.columns):\n",
        "    df['Departure_Delay_Min'] = (df['ATD'] - df['ETD']).dt.total_seconds() / 60\n",
        "\n",
        "# Drop raw timestamp columns if needed\n",
        "df.drop(columns=datetime_cols, inplace=True, errors='ignore')\n",
        "\n",
        "### --- 3. Fill missing values\n",
        "# Numeric: Fill with median\n",
        "num_cols = df.select_dtypes(include=np.number).columns.tolist()\n",
        "df[num_cols] = df[num_cols].fillna(df[num_cols].median())\n",
        "\n",
        "# Categorical: Fill with mode\n",
        "cat_cols = df.select_dtypes(include='object').columns.tolist()\n",
        "df[cat_cols] = df[cat_cols].fillna(df[cat_cols].mode().iloc[0])\n",
        "\n",
        "### --- 4. Encode categorical variables\n",
        "le = LabelEncoder()\n",
        "for col in cat_cols:\n",
        "    df[col] = le.fit_transform(df[col])\n",
        "\n",
        "### --- 5. Feature Scaling\n",
        "scaler = StandardScaler()\n",
        "df[num_cols] = scaler.fit_transform(df[num_cols])\n",
        "\n",
        "# Final check\n",
        "print(\"Preprocessing complete. Shape:\", df.shape)\n",
        "print(\"Columns:\", df.columns.tolist())\n"
      ],
      "metadata": {
        "colab": {
          "base_uri": "https://localhost:8080/"
        },
        "id": "cICQ6wR7Res7",
        "outputId": "1c5d03e6-4702-4f3a-d042-2a74d23c25e2"
      },
      "execution_count": 3,
      "outputs": [
        {
          "output_type": "stream",
          "name": "stdout",
          "text": [
            "Preprocessing complete. Shape: (1000000, 32)\n",
            "Columns: ['Flight Number', 'Day of Operation', 'STA (Standard Time of Arrival)', 'ETA (Estimated Time of Arrival)', 'ATA (Actual Time of Arrival)', 'ETD (Estimated Time of Departure)', 'ATD (Actual Time of Departure)', 'Airport Terminal Number', 'Passenger Connecting Time (mins)', 'Number of Checked-in Passengers', 'Number of Checked-in Infant Passengers', 'Passenger Class of Travel', 'Reservation Status', 'Sequence Number (Checked-in)', 'Seat Number', 'Onward Connection Indicator', 'Number of Baggage Items', 'Weight of Baggage (kg)', 'Baggage Status', 'Baggage Not Loaded Indicator', 'Baggage Not Seen for Loading Indicator', 'Interline Flight Indicator', 'Arrival Delay (mins)', 'Departure Delay (mins)', 'Passenger Irregularity Report (PIR) Created', 'Baggage Traced', 'Baggage Delivered', 'Baggage Not Traced', 'Airport Terminal Congestion Level', 'Gate Congestion Level', 'Weather Conditions', 'Passenger Mishandling Probability (%)']\n"
          ]
        }
      ]
    },
    {
      "cell_type": "code",
      "source": [
        "from sklearn.cluster import KMeans\n",
        "import matplotlib.pyplot as plt\n",
        "import seaborn as sns\n",
        "\n",
        "features_for_clustering = df.copy()\n",
        "\n",
        "inertia = []\n",
        "K = range(2, 11)\n",
        "for k in K:\n",
        "    kmeans = KMeans(n_clusters=k, random_state=42)\n",
        "    kmeans.fit(features_for_clustering)\n",
        "    inertia.append(kmeans.inertia_)\n",
        "\n",
        "plt.figure(figsize=(8, 5))\n",
        "plt.plot(K, inertia, marker='o')\n",
        "plt.title('Elbow Method for Optimal K')\n",
        "plt.xlabel('Number of clusters')\n",
        "plt.ylabel('Inertia')\n",
        "plt.grid(True)\n",
        "plt.show()\n"
      ],
      "metadata": {
        "colab": {
          "base_uri": "https://localhost:8080/",
          "height": 487
        },
        "id": "ozp7ZjcnSH4k",
        "outputId": "0e7cd4c6-febb-41a8-ea7b-1874a3e10b68"
      },
      "execution_count": 4,
      "outputs": [
        {
          "output_type": "display_data",
          "data": {
            "text/plain": [
              "<Figure size 800x500 with 1 Axes>"
            ],
            "image/png": "[encoded data removed]"
          },
          "metadata": {}
        }
      ]
    },
    {
      "cell_type": "code",
      "source": [
        "\n",
        "optimal_k = 3\n",
        "kmeans = KMeans(n_clusters=optimal_k, random_state=42)\n",
        "df['Cluster'] = kmeans.fit_predict(features_for_clustering)\n",
        "\n",
        "cluster_profile = df.groupby('Cluster').mean()\n",
        "print(cluster_profile)"
      ],
      "metadata": {
        "colab": {
          "base_uri": "https://localhost:8080/"
        },
        "id": "8a6tBwHRScvo",
        "outputId": "9a305820-b320-4130-de12-229db4cfff0d"
      },
      "execution_count": 5,
      "outputs": [
        {
          "output_type": "stream",
          "name": "stdout",
          "text": [
            "         Flight Number  Day of Operation  STA (Standard Time of Arrival)  \\\n",
            "Cluster                                                                    \n",
            "0            -0.000765          3.003944                      719.166842   \n",
            "1             0.002034          3.002669                     1198.606081   \n",
            "2            -0.001278          3.001856                      240.097536   \n",
            "\n",
            "         ETA (Estimated Time of Arrival)  ATA (Actual Time of Arrival)  \\\n",
            "Cluster                                                                  \n",
            "0                             748.109658                    803.018448   \n",
            "1                            1228.097123                   1284.577454   \n",
            "2                             268.611448                    322.079333   \n",
            "\n",
            "         ETD (Estimated Time of Departure)  ATD (Actual Time of Departure)  \\\n",
            "Cluster                                                                      \n",
            "0                               863.444746                      898.446887   \n",
            "1                              1346.696054                     1382.071689   \n",
            "2                               381.051932                      415.575428   \n",
            "\n",
            "         Airport Terminal Number  Passenger Connecting Time (mins)  \\\n",
            "Cluster                                                              \n",
            "0                      -0.000025                         -0.001765   \n",
            "1                       0.000175                          0.001746   \n",
            "2                      -0.000151                          0.000018   \n",
            "\n",
            "         Number of Checked-in Passengers  ...  Arrival Delay (mins)  \\\n",
            "Cluster                                   ...                         \n",
            "0                              -0.001356  ...              0.002201   \n",
            "1                              -0.000810  ...             -0.002394   \n",
            "2                               0.002180  ...              0.000195   \n",
            "\n",
            "         Departure Delay (mins)  Passenger Irregularity Report (PIR) Created  \\\n",
            "Cluster                                                                        \n",
            "0                      0.001525                                    -0.000362   \n",
            "1                     -0.001651                                     0.000883   \n",
            "2                      0.000128                                    -0.000525   \n",
            "\n",
            "         Baggage Traced  Baggage Delivered  Baggage Not Traced  \\\n",
            "Cluster                                                          \n",
            "0             -0.001015          -0.001467            0.000354   \n",
            "1              0.001218           0.000592           -0.001405   \n",
            "2             -0.000205           0.000880            0.001058   \n",
            "\n",
            "         Airport Terminal Congestion Level  Gate Congestion Level  \\\n",
            "Cluster                                                             \n",
            "0                                 0.997661               1.000533   \n",
            "1                                 0.999841               0.998626   \n",
            "2                                 0.999105               0.998951   \n",
            "\n",
            "         Weather Conditions  Passenger Mishandling Probability (%)  \n",
            "Cluster                                                             \n",
            "0                  0.999189                               0.000672  \n",
            "1                  1.000054                              -0.000240  \n",
            "2                  0.998054                              -0.000435  \n",
            "\n",
            "[3 rows x 32 columns]\n"
          ]
        }
      ]
    },
    {
      "cell_type": "code",
      "source": [
        "import numpy as np\n",
        "import pandas as pd\n",
        "import tensorflow as tf\n",
        "from sklearn.cluster import KMeans\n",
        "from sklearn.model_selection import train_test_split\n",
        "from sklearn.preprocessing import StandardScaler\n",
        "\n",
        "df_clean = df.copy()\n",
        "\n",
        "if 'Passenger Mishandling Probability (%)' in df_clean.columns:\n",
        "    df_clean = df_clean.drop(columns=['Passenger Mishandling Probability (%)'])\n",
        "\n",
        "k = 3\n",
        "kmeans = KMeans(n_clusters=k, random_state=42)\n",
        "labels = kmeans.fit_predict(df_clean)\n",
        "\n",
        "X = df_clean.values\n",
        "scaler = StandardScaler()\n",
        "X = scaler.fit_transform(X)\n",
        "\n",
        "max_len = 64\n",
        "X_pad = np.zeros((X.shape[0], max_len))\n",
        "X_pad[:, :X.shape[1]] = X\n",
        "\n",
        "X_reshaped = X_pad.reshape(-1, 8, 8, 1)\n",
        "X_train, X_test, y_train, y_test = train_test_split(X_reshaped, labels, test_size=0.2, random_state=42)\n",
        "\n",
        "model = tf.keras.models.Sequential([\n",
        "    tf.keras.layers.Conv2D(32, (3, 3), activation='relu', input_shape=(8, 8, 1)),\n",
        "    tf.keras.layers.MaxPooling2D((2, 2)),\n",
        "    tf.keras.layers.Conv2D(64, (3, 3), activation='relu'),\n",
        "    tf.keras.layers.Flatten(),\n",
        "    tf.keras.layers.Dense(64, activation='relu'),\n",
        "    tf.keras.layers.Dense(k, activation='softmax')\n",
        "])\n",
        "\n",
        "model.compile(optimizer='adam', loss='sparse_categorical_crossentropy', metrics=['accuracy'])\n",
        "\n",
        "model.fit(X_train, y_train, epochs=5, batch_size=32, validation_data=(X_test, y_test))\n",
        "\n",
        "test_loss, test_acc = model.evaluate(X_test, y_test)\n",
        "print(\"Test Accuracy:\", test_acc)\n"
      ],
      "metadata": {
        "colab": {
          "base_uri": "https://localhost:8080/"
        },
        "id": "93uLarGfStVg",
        "outputId": "9d8d0b9a-2a45-4bf7-e450-4ae06a6ec8fe"
      },
      "execution_count": 8,
      "outputs": [
        {
          "output_type": "stream",
          "name": "stderr",
          "text": [
            "/usr/local/lib/python3.11/dist-packages/keras/src/layers/convolutional/base_conv.py:107: UserWarning: Do not pass an `input_shape`/`input_dim` argument to a layer. When using Sequential models, prefer using an `Input(shape)` object as the first layer in the model instead.\n",
            "  super().__init__(activity_regularizer=activity_regularizer, **kwargs)\n"
          ]
        },
        {
          "output_type": "stream",
          "name": "stdout",
          "text": [
            "Epoch 1/5\n",
            "\u001b[1m25000/25000\u001b[0m \u001b[32m━━━━━━━━━━━━━━━━━━━━\u001b[0m\u001b[37m\u001b[0m \u001b[1m77s\u001b[0m 3ms/step - accuracy: 0.9875 - loss: 0.0342 - val_accuracy: 0.9995 - val_loss: 0.0015\n",
            "Epoch 2/5\n",
            "\u001b[1m25000/25000\u001b[0m \u001b[32m━━━━━━━━━━━━━━━━━━━━\u001b[0m\u001b[37m\u001b[0m \u001b[1m75s\u001b[0m 3ms/step - accuracy: 0.9993 - loss: 0.0022 - val_accuracy: 0.9998 - val_loss: 6.6606e-04\n",
            "Epoch 3/5\n",
            "\u001b[1m25000/25000\u001b[0m \u001b[32m━━━━━━━━━━━━━━━━━━━━\u001b[0m\u001b[37m\u001b[0m \u001b[1m75s\u001b[0m 3ms/step - accuracy: 0.9996 - loss: 0.0017 - val_accuracy: 0.9994 - val_loss: 0.0019\n",
            "Epoch 4/5\n",
            "\u001b[1m25000/25000\u001b[0m \u001b[32m━━━━━━━━━━━━━━━━━━━━\u001b[0m\u001b[37m\u001b[0m \u001b[1m90s\u001b[0m 3ms/step - accuracy: 0.9997 - loss: 0.0011 - val_accuracy: 0.9999 - val_loss: 2.8620e-04\n",
            "Epoch 5/5\n",
            "\u001b[1m25000/25000\u001b[0m \u001b[32m━━━━━━━━━━━━━━━━━━━━\u001b[0m\u001b[37m\u001b[0m \u001b[1m75s\u001b[0m 3ms/step - accuracy: 0.9998 - loss: 9.9195e-04 - val_accuracy: 1.0000 - val_loss: 2.6902e-04\n",
            "\u001b[1m6250/6250\u001b[0m \u001b[32m━━━━━━━━━━━━━━━━━━━━\u001b[0m\u001b[37m\u001b[0m \u001b[1m13s\u001b[0m 2ms/step - accuracy: 1.0000 - loss: 1.5430e-04\n",
            "Test Accuracy: 0.9999549984931946\n"
          ]
        }
      ]
    },
    {
      "cell_type": "code",
      "source": [
        "delay_threshold = 30\n",
        "df['Delay_Label'] = (\n",
        "    (df['Arrival Delay (mins)'] > delay_threshold) |\n",
        "    (df['Departure Delay (mins)'] > delay_threshold)\n",
        ").astype(int)\n"
      ],
      "metadata": {
        "id": "pZA4mLlpULKv"
      },
      "execution_count": 9,
      "outputs": []
    },
    {
      "cell_type": "code",
      "source": [
        "X = df.drop(columns=[\n",
        "    'Delay_Label',\n",
        "    'Arrival Delay (mins)', 'Departure Delay (mins)',\n",
        "    'Passenger Mishandling Probability (%)',\n",
        "    'Flight Number', 'Seat Number', 'Sequence Number (Checked-in)'\n",
        "])\n",
        "y = df['Delay_Label']\n"
      ],
      "metadata": {
        "id": "7zmTG4M2UO3Q"
      },
      "execution_count": 10,
      "outputs": []
    },
    {
      "cell_type": "code",
      "source": [
        "from sklearn.preprocessing import StandardScaler, OneHotEncoder\n",
        "from sklearn.compose import ColumnTransformer\n",
        "from sklearn.pipeline import Pipeline\n",
        "\n",
        "categorical_cols = X.select_dtypes(include=['object']).columns.tolist()\n",
        "numeric_cols = X.select_dtypes(include=['int64', 'float64']).columns.tolist()\n",
        "\n",
        "preprocessor = ColumnTransformer([\n",
        "    ('cat', OneHotEncoder(handle_unknown='ignore', sparse_output=False), categorical_cols),\n",
        "    ('num', StandardScaler(), numeric_cols)\n",
        "])\n",
        "\n",
        "X_processed = preprocessor.fit_transform(X)"
      ],
      "metadata": {
        "id": "NxOvv2d8UVcy"
      },
      "execution_count": 11,
      "outputs": []
    },
    {
      "cell_type": "code",
      "source": [
        "import numpy as np\n",
        "\n",
        "max_len = 64\n",
        "X_padded = np.zeros((X_processed.shape[0], max_len))\n",
        "X_padded[:, :X_processed.shape[1]] = X_processed\n",
        "\n",
        "X_cnn = X_padded.reshape(-1, 8, 8, 1)\n"
      ],
      "metadata": {
        "id": "kIJgKjwVUkMv"
      },
      "execution_count": 12,
      "outputs": []
    },
    {
      "cell_type": "code",
      "source": [
        "from sklearn.model_selection import train_test_split\n",
        "\n",
        "X_train, X_test, y_train, y_test = train_test_split(X_cnn, y, test_size=0.2, random_state=42)\n"
      ],
      "metadata": {
        "id": "mHtLfA3zUokG"
      },
      "execution_count": 13,
      "outputs": []
    },
    {
      "cell_type": "code",
      "source": [
        "import tensorflow as tf\n",
        "\n",
        "model = tf.keras.models.Sequential([\n",
        "    tf.keras.layers.Conv2D(32, (3, 3), activation='relu', input_shape=(8, 8, 1)),\n",
        "    tf.keras.layers.MaxPooling2D((2, 2)),\n",
        "    tf.keras.layers.Conv2D(64, (3, 3), activation='relu'),\n",
        "    tf.keras.layers.Flatten(),\n",
        "    tf.keras.layers.Dense(128, activation='relu'),\n",
        "    tf.keras.layers.Dropout(0.3),\n",
        "    tf.keras.layers.Dense(1, activation='sigmoid')\n",
        "])\n"
      ],
      "metadata": {
        "colab": {
          "base_uri": "https://localhost:8080/"
        },
        "id": "TDeTZr9_Ur6c",
        "outputId": "a567cab5-4144-47e4-b053-ba42e4bfacc8"
      },
      "execution_count": 14,
      "outputs": [
        {
          "output_type": "stream",
          "name": "stderr",
          "text": [
            "/usr/local/lib/python3.11/dist-packages/keras/src/layers/convolutional/base_conv.py:107: UserWarning: Do not pass an `input_shape`/`input_dim` argument to a layer. When using Sequential models, prefer using an `Input(shape)` object as the first layer in the model instead.\n",
            "  super().__init__(activity_regularizer=activity_regularizer, **kwargs)\n"
          ]
        }
      ]
    },
    {
      "cell_type": "code",
      "source": [
        "model.compile(optimizer='adam', loss='binary_crossentropy', metrics=['accuracy'])\n",
        "\n",
        "history = model.fit(\n",
        "    X_train, y_train,\n",
        "    validation_data=(X_test, y_test),\n",
        "    epochs=2,\n",
        "    batch_size=32\n",
        ")"
      ],
      "metadata": {
        "colab": {
          "base_uri": "https://localhost:8080/"
        },
        "id": "RyiW01a-UyKY",
        "outputId": "2707bf62-d3e9-44f9-cfa5-f98bfaff28af"
      },
      "execution_count": 17,
      "outputs": [
        {
          "output_type": "stream",
          "name": "stdout",
          "text": [
            "Epoch 1/2\n",
            "\u001b[1m25000/25000\u001b[0m \u001b[32m━━━━━━━━━━━━━━━━━━━━\u001b[0m\u001b[37m\u001b[0m \u001b[1m78s\u001b[0m 3ms/step - accuracy: 1.0000 - loss: 2.4182e-12 - val_accuracy: 1.0000 - val_loss: 7.8952e-15\n",
            "Epoch 2/2\n",
            "\u001b[1m25000/25000\u001b[0m \u001b[32m━━━━━━━━━━━━━━━━━━━━\u001b[0m\u001b[37m\u001b[0m \u001b[1m88s\u001b[0m 3ms/step - accuracy: 1.0000 - loss: 1.6636e-12 - val_accuracy: 1.0000 - val_loss: 5.0180e-15\n"
          ]
        }
      ]
    },
    {
      "cell_type": "code",
      "source": [
        "loss, accuracy = model.evaluate(X_test, y_test)\n",
        "print(\"Test Accuracy:\", accuracy)"
      ],
      "metadata": {
        "colab": {
          "base_uri": "https://localhost:8080/"
        },
        "id": "yuIgWMWHWTHW",
        "outputId": "b196b24d-eca9-44a2-f27c-093a0c4e30da"
      },
      "execution_count": 18,
      "outputs": [
        {
          "output_type": "stream",
          "name": "stdout",
          "text": [
            "\u001b[1m6250/6250\u001b[0m \u001b[32m━━━━━━━━━━━━━━━━━━━━\u001b[0m\u001b[37m\u001b[0m \u001b[1m30s\u001b[0m 5ms/step - accuracy: 1.0000 - loss: 5.1598e-15\n",
            "Test Accuracy: 1.0\n"
          ]
        }
      ]
    },
    {
      "cell_type": "code",
      "source": [
        "sample = X_test[0].reshape(1, 8, 8, 1)\n",
        "prediction = model.predict(sample)\n",
        "print(\"Delayed\" if prediction[0][0] > 0.5 else \"On-time\")"
      ],
      "metadata": {
        "colab": {
          "base_uri": "https://localhost:8080/"
        },
        "id": "s-XMT-09WcsP",
        "outputId": "87196750-b5ac-4c74-8838-04ea27414796"
      },
      "execution_count": 19,
      "outputs": [
        {
          "output_type": "stream",
          "name": "stdout",
          "text": [
            "\u001b[1m1/1\u001b[0m \u001b[32m━━━━━━━━━━━━━━━━━━━━\u001b[0m\u001b[37m\u001b[0m \u001b[1m0s\u001b[0m 310ms/step\n",
            "On-time\n"
          ]
        }
      ]
    },
    {
      "cell_type": "code",
      "source": [
        "# Step 1: Import libraries\n",
        "import numpy as np\n",
        "import pandas as pd\n",
        "import tensorflow as tf\n",
        "import shap\n",
        "from sklearn.model_selection import train_test_split\n",
        "from sklearn.preprocessing import StandardScaler, OneHotEncoder\n",
        "from sklearn.compose import ColumnTransformer\n",
        "from sklearn.pipeline import Pipeline\n",
        "from IPython.display import HTML\n",
        "\n",
        "# Step 2: Prepare dataset\n",
        "# Assume 'df' is your original DataFrame with all columns\n",
        "\n",
        "delay_threshold = 30\n",
        "df['Delay_Label'] = (\n",
        "    (df['Arrival Delay (mins)'] > delay_threshold) |\n",
        "    (df['Departure Delay (mins)'] > delay_threshold)\n",
        ").astype(int)\n",
        "\n",
        "# Drop unnecessary columns\n",
        "X = df.drop(columns=[\n",
        "    'Delay_Label', 'Arrival Delay (mins)', 'Departure Delay (mins)',\n",
        "    'Passenger Mishandling Probability (%)', 'Flight Number',\n",
        "    'Seat Number', 'Sequence Number (Checked-in)'\n",
        "])\n",
        "y = df['Delay_Label']\n",
        "\n",
        "# Step 3: Preprocess\n",
        "categorical_cols = X.select_dtypes(include=['object']).columns.tolist()\n",
        "numeric_cols = X.select_dtypes(include=['int64', 'float64']).columns.tolist()\n",
        "\n",
        "preprocessor = ColumnTransformer([\n",
        "    ('cat', OneHotEncoder(handle_unknown='ignore', sparse_output=False), categorical_cols),\n",
        "    ('num', StandardScaler(), numeric_cols)\n",
        "])\n",
        "\n",
        "X_processed = preprocessor.fit_transform(X)\n",
        "\n",
        "# Step 4: Padding and reshaping\n",
        "max_len = 64  # target CNN input size (8x8)\n",
        "X_padded = np.zeros((X_processed.shape[0], max_len))\n",
        "X_padded[:, :X_processed.shape[1]] = X_processed  # pad or truncate\n",
        "\n",
        "X_cnn = X_padded.reshape(-1, 8, 8, 1)\n",
        "\n",
        "# Step 5: Train/test split\n",
        "X_train, X_test, y_train, y_test = train_test_split(X_cnn, y, test_size=0.2, random_state=42)\n",
        "\n",
        "# Step 6: CNN model\n",
        "model = tf.keras.models.Sequential([\n",
        "    tf.keras.layers.Conv2D(32, (3, 3), activation='relu', input_shape=(8, 8, 1)),\n",
        "    tf.keras.layers.MaxPooling2D((2, 2)),\n",
        "    tf.keras.layers.Conv2D(64, (3, 3), activation='relu'),\n",
        "    tf.keras.layers.Flatten(),\n",
        "    tf.keras.layers.Dense(128, activation='relu'),\n",
        "    tf.keras.layers.Dropout(0.3),\n",
        "    tf.keras.layers.Dense(1, activation='sigmoid')\n",
        "])\n",
        "model.compile(optimizer='adam', loss='binary_crossentropy', metrics=['accuracy'])\n",
        "\n",
        "# Step 7: Train model\n",
        "model.fit(X_train, y_train, validation_data=(X_test, y_test), epochs=25, batch_size=32)\n",
        "\n",
        "# Step 8: Wrapper function for SHAP\n",
        "def predict_wrapper(x_processed):\n",
        "    x_padded = np.zeros((x_processed.shape[0], max_len))\n",
        "    if x_processed.shape[1] > max_len:\n",
        "        print(f\"Warning: Truncating input from shape {x_processed.shape}\")\n",
        "        x_padded[:, :] = x_processed[:, :max_len]\n",
        "    else:\n",
        "        x_padded[:, :x_processed.shape[1]] = x_processed\n",
        "\n",
        "    x_cnn = x_padded.reshape(-1, 8, 8, 1)\n",
        "    return model.predict(x_cnn)\n",
        "\n",
        "# Step 9: SHAP explainability\n",
        "shap.initjs()\n",
        "\n",
        "# Use small subset of samples for SHAP to avoid performance issues\n",
        "X_sample_processed = X_processed[:200]\n",
        "X_explain_processed = X_processed[200:210]\n",
        "\n",
        "# KernelExplainer (use DeepExplainer only if input is unpadded and model is simple)\n",
        "explainer = shap.KernelExplainer(predict_wrapper, X_sample_processed)\n",
        "shap_values = explainer.shap_values(X_explain_processed)\n",
        "\n",
        "# Step 10: SHAP Force Plot (Colab-compatible)\n",
        "HTML(shap.force_plot(\n",
        "    explainer.expected_value[0],\n",
        "    shap_values[0][0],  # SHAP values for the first test instance\n",
        "    feature_names=preprocessor.get_feature_names_out(),\n",
        "    show=False\n",
        ").data)\n",
        "\n",
        "# Optional: SHAP Summary Plot (for top 10 samples)\n",
        "shap.summary_plot(\n",
        "    shap_values[0],\n",
        "    X_explain_processed,\n",
        "    feature_names=preprocessor.get_feature_names_out()\n",
        ")\n"
      ],
      "metadata": {
        "colab": {
          "base_uri": "https://localhost:8080/",
          "height": 503,
          "referenced_widgets": [
            "9b10034b5b254c3f8c5b89688f912aa3",
            "37dba1e769ae4cc8b136cd7bb841236f",
            "84239e14cbaa4f22b91ffb889337799b",
            "e71ff4e3a84d401586dc85c2005e6105",
            "4680eed0f1ed46528f2693305d33c06d",
            "f1f8876031114b58bc9b32426739ff9c",
            "699025aa44a640eab355df3096f60113",
            "881f590c5ae0414db072871ce3ce0962",
            "ff4fe8ecf80e40be89643f9b77c9dcf3",
            "2794975eab134deaa8c83875f2c519a8",
            "ab49bb25fd6d4236b393c2f0e5fe90ce"
          ]
        },
        "id": "uTl9QP91eNVo",
        "outputId": "4ed42441-ac8d-48e0-b123-80402610e27d"
      },
      "execution_count": 20,
      "outputs": [
        {
          "output_type": "stream",
          "name": "stdout",
          "text": [
            "\u001b[1m7/7\u001b[0m \u001b[32m━━━━━━━━━━━━━━━━━━━━\u001b[0m\u001b[37m\u001b[0m \u001b[1m1s\u001b[0m 48ms/step\n"
          ]
        },
        {
          "output_type": "stream",
          "name": "stderr",
          "text": [
            "WARNING:shap:Using 200 background data samples could cause slower run times. Consider using shap.sample(data, K) or shap.kmeans(data, K) to summarize the background as K samples.\n"
          ]
        },
        {
          "output_type": "display_data",
          "data": {
            "text/plain": [
              "  0%|          | 0/10 [00:00<?, ?it/s]"
            ],
            "application/vnd.jupyter.widget-view+json": {
              "version_major": 2,
              "version_minor": 0,
              "model_id": "9b10034b5b254c3f8c5b89688f912aa3"
            }
          },
          "metadata": {}
        },
        {
          "output_type": "stream",
          "name": "stdout",
          "text": [
            "\u001b[1m1/1\u001b[0m \u001b[32m━━━━━━━━━━━━━━━━━━━━\u001b[0m\u001b[37m\u001b[0m \u001b[1m0s\u001b[0m 29ms/step\n",
            "\u001b[1m13125/13125\u001b[0m \u001b[32m━━━━━━━━━━━━━━━━━━━━\u001b[0m\u001b[37m\u001b[0m \u001b[1m18s\u001b[0m 1ms/step\n",
            "\u001b[1m1/1\u001b[0m \u001b[32m━━━━━━━━━━━━━━━━━━━━\u001b[0m\u001b[37m\u001b[0m \u001b[1m0s\u001b[0m 34ms/step\n",
            "\u001b[1m13125/13125\u001b[0m \u001b[32m━━━━━━━━━━━━━━━━━━━━\u001b[0m\u001b[37m\u001b[0m \u001b[1m18s\u001b[0m 1ms/step\n",
            "\u001b[1m1/1\u001b[0m \u001b[32m━━━━━━━━━━━━━━━━━━━━\u001b[0m\u001b[37m\u001b[0m \u001b[1m0s\u001b[0m 35ms/step\n",
            "\u001b[1m13125/13125\u001b[0m \u001b[32m━━━━━━━━━━━━━━━━━━━━\u001b[0m\u001b[37m\u001b[0m \u001b[1m18s\u001b[0m 1ms/step\n",
            "\u001b[1m1/1\u001b[0m \u001b[32m━━━━━━━━━━━━━━━━━━━━\u001b[0m\u001b[37m\u001b[0m \u001b[1m0s\u001b[0m 36ms/step\n",
            "\u001b[1m13125/13125\u001b[0m \u001b[32m━━━━━━━━━━━━━━━━━━━━\u001b[0m\u001b[37m\u001b[0m \u001b[1m43s\u001b[0m 3ms/step\n",
            "\u001b[1m1/1\u001b[0m \u001b[32m━━━━━━━━━━━━━━━━━━━━\u001b[0m\u001b[37m\u001b[0m \u001b[1m0s\u001b[0m 37ms/step\n",
            "\u001b[1m13125/13125\u001b[0m \u001b[32m━━━━━━━━━━━━━━━━━━━━\u001b[0m\u001b[37m\u001b[0m \u001b[1m18s\u001b[0m 1ms/step\n",
            "\u001b[1m1/1\u001b[0m \u001b[32m━━━━━━━━━━━━━━━━━━━━\u001b[0m\u001b[37m\u001b[0m \u001b[1m0s\u001b[0m 37ms/step\n",
            "\u001b[1m13125/13125\u001b[0m \u001b[32m━━━━━━━━━━━━━━━━━━━━\u001b[0m\u001b[37m\u001b[0m \u001b[1m18s\u001b[0m 1ms/step\n",
            "\u001b[1m1/1\u001b[0m \u001b[32m━━━━━━━━━━━━━━━━━━━━\u001b[0m\u001b[37m\u001b[0m \u001b[1m0s\u001b[0m 36ms/step\n",
            "\u001b[1m13125/13125\u001b[0m \u001b[32m━━━━━━━━━━━━━━━━━━━━\u001b[0m\u001b[37m\u001b[0m \u001b[1m18s\u001b[0m 1ms/step\n",
            "\u001b[1m1/1\u001b[0m \u001b[32m━━━━━━━━━━━━━━━━━━━━\u001b[0m\u001b[37m\u001b[0m \u001b[1m0s\u001b[0m 35ms/step\n",
            "\u001b[1m13125/13125\u001b[0m \u001b[32m━━━━━━━━━━━━━━━━━━━━\u001b[0m\u001b[37m\u001b[0m \u001b[1m19s\u001b[0m 1ms/step\n",
            "\u001b[1m1/1\u001b[0m \u001b[32m━━━━━━━━━━━━━━━━━━━━\u001b[0m\u001b[37m\u001b[0m \u001b[1m0s\u001b[0m 33ms/step\n",
            "\u001b[1m13125/13125\u001b[0m \u001b[32m━━━━━━━━━━━━━━━━━━━━\u001b[0m\u001b[37m\u001b[0m \u001b[1m19s\u001b[0m 1ms/step\n",
            "\u001b[1m1/1\u001b[0m \u001b[32m━━━━━━━━━━━━━━━━━━━━\u001b[0m\u001b[37m\u001b[0m \u001b[1m0s\u001b[0m 35ms/step\n",
            "\u001b[1m13125/13125\u001b[0m \u001b[32m━━━━━━━━━━━━━━━━━━━━\u001b[0m\u001b[37m\u001b[0m \u001b[1m18s\u001b[0m 1ms/step\n"
          ]
        },
        {
          "output_type": "execute_result",
          "data": {
            "text/plain": [
              "<shap.plots._force.AdditiveForceVisualizer at 0x7f81c3177710>"
            ],
            "text/html": [
              "\n",
              "<div id='iPIO5UL8GS0Q2YDOWVMZ2'>\n",
              "<div style='color: #900; text-align: center;'>\n",
              "  <b>Visualization omitted, Javascript library not loaded!</b><br>\n",
              "  Have you run `initjs()` in this notebook? If this notebook was from another\n",
              "  user you must also trust this notebook (File -> Trust notebook). If you are viewing\n",
              "  this notebook on github the Javascript has been stripped for security. If you are using\n",
              "  JupyterLab this error is because a JupyterLab extension has not yet been written.\n",
              "</div></div>\n",
              " <script>\n",
              "   if (window.SHAP) SHAP.ReactDom.render(\n",
              "    SHAP.React.createElement(SHAP.AdditiveForceVisualizer, {\"outNames\": [\"f(x)\"], \"baseValue\": 4.018503515878347e-15, \"outValue\": 4.018503515878347e-15, \"link\": \"identity\", \"featureNames\": [\"num__Day of Operation\", \"num__STA (Standard Time of Arrival)\", \"num__ETA (Estimated Time of Arrival)\", \"num__ATA (Actual Time of Arrival)\", \"num__ETD (Estimated Time of Departure)\", \"num__ATD (Actual Time of Departure)\", \"num__Airport Terminal Number\", \"num__Passenger Connecting Time (mins)\", \"num__Number of Checked-in Passengers\", \"num__Number of Checked-in Infant Passengers\", \"num__Passenger Class of Travel\", \"num__Reservation Status\", \"num__Onward Connection Indicator\", \"num__Number of Baggage Items\", \"num__Weight of Baggage (kg)\", \"num__Baggage Status\", \"num__Baggage Not Loaded Indicator\", \"num__Baggage Not Seen for Loading Indicator\", \"num__Interline Flight Indicator\", \"num__Passenger Irregularity Report (PIR) Created\", \"num__Baggage Traced\", \"num__Baggage Delivered\", \"num__Baggage Not Traced\", \"num__Airport Terminal Congestion Level\", \"num__Gate Congestion Level\", \"num__Weather Conditions\"], \"features\": {}, \"plot_cmap\": \"RdBu\", \"labelMargin\": 20}),\n",
              "    document.getElementById('iPIO5UL8GS0Q2YDOWVMZ2')\n",
              "  );\n",
              "</script>"
            ]
          },
          "metadata": {},
          "execution_count": 20
        }
      ]
    },
    {
      "cell_type": "code",
      "source": [
        "!pip install tensorflow"
      ],
      "metadata": {
        "colab": {
          "base_uri": "https://localhost:8080/"
        },
        "id": "Qd1MLb6hXWgr",
        "outputId": "fcf144d2-7120-4fd7-fe6c-9d73692824a9"
      },
      "execution_count": 22,
      "outputs": [
        {
          "output_type": "stream",
          "name": "stdout",
          "text": [
            "Requirement already satisfied: tensorflow in /usr/local/lib/python3.11/dist-packages (2.18.0)\n",
            "Requirement already satisfied: absl-py>=1.0.0 in /usr/local/lib/python3.11/dist-packages (from tensorflow) (1.4.0)\n",
            "Requirement already satisfied: astunparse>=1.6.0 in /usr/local/lib/python3.11/dist-packages (from tensorflow) (1.6.3)\n",
            "Requirement already satisfied: flatbuffers>=24.3.25 in /usr/local/lib/python3.11/dist-packages (from tensorflow) (25.2.10)\n",
            "Requirement already satisfied: gast!=0.5.0,!=0.5.1,!=0.5.2,>=0.2.1 in /usr/local/lib/python3.11/dist-packages (from tensorflow) (0.6.0)\n",
            "Requirement already satisfied: google-pasta>=0.1.1 in /usr/local/lib/python3.11/dist-packages (from tensorflow) (0.2.0)\n",
            "Requirement already satisfied: libclang>=13.0.0 in /usr/local/lib/python3.11/dist-packages (from tensorflow) (18.1.1)\n",
            "Requirement already satisfied: opt-einsum>=2.3.2 in /usr/local/lib/python3.11/dist-packages (from tensorflow) (3.4.0)\n",
            "Requirement already satisfied: packaging in /usr/local/lib/python3.11/dist-packages (from tensorflow) (24.2)\n",
            "Requirement already satisfied: protobuf!=4.21.0,!=4.21.1,!=4.21.2,!=4.21.3,!=4.21.4,!=4.21.5,<6.0.0dev,>=3.20.3 in /usr/local/lib/python3.11/dist-packages (from tensorflow) (5.29.5)\n",
            "Requirement already satisfied: requests<3,>=2.21.0 in /usr/local/lib/python3.11/dist-packages (from tensorflow) (2.32.3)\n",
            "Requirement already satisfied: setuptools in /usr/local/lib/python3.11/dist-packages (from tensorflow) (75.2.0)\n",
            "Requirement already satisfied: six>=1.12.0 in /usr/local/lib/python3.11/dist-packages (from tensorflow) (1.17.0)\n",
            "Requirement already satisfied: termcolor>=1.1.0 in /usr/local/lib/python3.11/dist-packages (from tensorflow) (3.1.0)\n",
            "Requirement already satisfied: typing-extensions>=3.6.6 in /usr/local/lib/python3.11/dist-packages (from tensorflow) (4.13.2)\n",
            "Requirement already satisfied: wrapt>=1.11.0 in /usr/local/lib/python3.11/dist-packages (from tensorflow) (1.17.2)\n",
            "Requirement already satisfied: grpcio<2.0,>=1.24.3 in /usr/local/lib/python3.11/dist-packages (from tensorflow) (1.71.0)\n",
            "Requirement already satisfied: tensorboard<2.19,>=2.18 in /usr/local/lib/python3.11/dist-packages (from tensorflow) (2.18.0)\n",
            "Requirement already satisfied: keras>=3.5.0 in /usr/local/lib/python3.11/dist-packages (from tensorflow) (3.8.0)\n",
            "Requirement already satisfied: numpy<2.1.0,>=1.26.0 in /usr/local/lib/python3.11/dist-packages (from tensorflow) (2.0.2)\n",
            "Requirement already satisfied: h5py>=3.11.0 in /usr/local/lib/python3.11/dist-packages (from tensorflow) (3.13.0)\n",
            "Requirement already satisfied: ml-dtypes<0.5.0,>=0.4.0 in /usr/local/lib/python3.11/dist-packages (from tensorflow) (0.4.1)\n",
            "Requirement already satisfied: tensorflow-io-gcs-filesystem>=0.23.1 in /usr/local/lib/python3.11/dist-packages (from tensorflow) (0.37.1)\n",
            "Requirement already satisfied: wheel<1.0,>=0.23.0 in /usr/local/lib/python3.11/dist-packages (from astunparse>=1.6.0->tensorflow) (0.45.1)\n",
            "Requirement already satisfied: rich in /usr/local/lib/python3.11/dist-packages (from keras>=3.5.0->tensorflow) (13.9.4)\n",
            "Requirement already satisfied: namex in /usr/local/lib/python3.11/dist-packages (from keras>=3.5.0->tensorflow) (0.1.0)\n",
            "Requirement already satisfied: optree in /usr/local/lib/python3.11/dist-packages (from keras>=3.5.0->tensorflow) (0.16.0)\n",
            "Requirement already satisfied: charset-normalizer<4,>=2 in /usr/local/lib/python3.11/dist-packages (from requests<3,>=2.21.0->tensorflow) (3.4.2)\n",
            "Requirement already satisfied: idna<4,>=2.5 in /usr/local/lib/python3.11/dist-packages (from requests<3,>=2.21.0->tensorflow) (3.10)\n",
            "Requirement already satisfied: urllib3<3,>=1.21.1 in /usr/local/lib/python3.11/dist-packages (from requests<3,>=2.21.0->tensorflow) (2.4.0)\n",
            "Requirement already satisfied: certifi>=2017.4.17 in /usr/local/lib/python3.11/dist-packages (from requests<3,>=2.21.0->tensorflow) (2025.4.26)\n",
            "Requirement already satisfied: markdown>=2.6.8 in /usr/local/lib/python3.11/dist-packages (from tensorboard<2.19,>=2.18->tensorflow) (3.8)\n",
            "Requirement already satisfied: tensorboard-data-server<0.8.0,>=0.7.0 in /usr/local/lib/python3.11/dist-packages (from tensorboard<2.19,>=2.18->tensorflow) (0.7.2)\n",
            "Requirement already satisfied: werkzeug>=1.0.1 in /usr/local/lib/python3.11/dist-packages (from tensorboard<2.19,>=2.18->tensorflow) (3.1.3)\n",
            "Requirement already satisfied: MarkupSafe>=2.1.1 in /usr/local/lib/python3.11/dist-packages (from werkzeug>=1.0.1->tensorboard<2.19,>=2.18->tensorflow) (3.0.2)\n",
            "Requirement already satisfied: markdown-it-py>=2.2.0 in /usr/local/lib/python3.11/dist-packages (from rich->keras>=3.5.0->tensorflow) (3.0.0)\n",
            "Requirement already satisfied: pygments<3.0.0,>=2.13.0 in /usr/local/lib/python3.11/dist-packages (from rich->keras>=3.5.0->tensorflow) (2.19.1)\n",
            "Requirement already satisfied: mdurl~=0.1 in /usr/local/lib/python3.11/dist-packages (from markdown-it-py>=2.2.0->rich->keras>=3.5.0->tensorflow) (0.1.2)\n"
          ]
        }
      ]
    },
    {
      "cell_type": "code",
      "source": [
        "# Encoder\n",
        "encoder_inputs = Input(shape=input_shape)\n",
        "x = Conv2D(16, (3, 3), activation='relu', padding='same')(encoder_inputs)\n",
        "x = Conv2D(8, (3, 3), activation='relu', padding='same', strides=2)(x)\n",
        "x = Flatten()(x)\n",
        "x = Dense(32, activation='relu')(x)\n",
        "z_mean = Dense(latent_dim, name=\"z_mean\")(x)\n",
        "z_log_var = Dense(latent_dim, name=\"z_log_var\")(x)\n",
        "z = Lambda(sampling, name=\"z\")([z_mean, z_log_var])\n",
        "\n",
        "encoder = Model(encoder_inputs, [z_mean, z_log_var, z], name=\"encoder\")\n",
        "\n",
        "# Decoder\n",
        "decoder_inputs = Input(shape=(latent_dim,))\n",
        "x = Dense(2 * 4 * 4, activation='relu')(decoder_inputs)\n",
        "x = Reshape((4, 4, 2))(x)\n",
        "x = Conv2DTranspose(8, (3, 3), strides=2, activation='relu', padding='same')(x)\n",
        "decoder_outputs = Conv2DTranspose(1, (3, 3), activation='sigmoid', padding='same')(x)\n",
        "\n",
        "decoder = Model(decoder_inputs, decoder_outputs, name=\"decoder\")\n"
      ],
      "metadata": {
        "id": "8NT0X86XXDUo"
      },
      "execution_count": 36,
      "outputs": []
    },
    {
      "cell_type": "code",
      "source": [
        "class VAEWithLoss(Model):\n",
        "    def __init__(self, encoder, decoder, **kwargs):\n",
        "        super(VAEWithLoss, self).__init__(**kwargs)\n",
        "        self.encoder = encoder\n",
        "        self.decoder = decoder\n",
        "        self.loss_tracker = tf.keras.metrics.Mean(name=\"loss\")\n",
        "\n",
        "    def call(self, inputs):\n",
        "        z_mean, z_log_var, z = self.encoder(inputs)\n",
        "        reconstructed = self.decoder(z)\n",
        "\n",
        "        reconstruction_loss = tf.keras.losses.binary_crossentropy(K.flatten(inputs), K.flatten(reconstructed))\n",
        "        reconstruction_loss *= input_shape[0] * input_shape[1]\n",
        "\n",
        "        kl_loss = -0.5 * K.sum(1 + z_log_var - K.square(z_mean) - K.exp(z_log_var), axis=-1)\n",
        "        total_loss = K.mean(reconstruction_loss + kl_loss)\n",
        "\n",
        "        self.add_loss(total_loss)\n",
        "        self.loss_tracker.update_state(total_loss)\n",
        "        return reconstructed\n",
        "\n",
        "    @property\n",
        "    def metrics(self):\n",
        "        return [self.loss_tracker]\n"
      ],
      "metadata": {
        "id": "4Tlu2PBpa2Xq"
      },
      "execution_count": 37,
      "outputs": []
    },
    {
      "cell_type": "code",
      "source": [
        "vae = VAEWithLoss(encoder, decoder)\n",
        "vae.compile(optimizer='adam')\n",
        "vae.fit(X_train, epochs=20, batch_size=32, validation_split=0.1)\n"
      ],
      "metadata": {
        "colab": {
          "base_uri": "https://localhost:8080/"
        },
        "id": "sFSs_REibBIj",
        "outputId": "86490f28-f65d-4e2a-e7b8-7b1663fa108d"
      },
      "execution_count": 39,
      "outputs": [
        {
          "output_type": "stream",
          "name": "stdout",
          "text": [
            "Epoch 1/20\n",
            "\u001b[1m1753/1753\u001b[0m \u001b[32m━━━━━━━━━━━━━━━━━━━━\u001b[0m\u001b[37m\u001b[0m \u001b[1m12s\u001b[0m 5ms/step - loss: -68.6389 - val_loss: -69.5013\n",
            "Epoch 2/20\n",
            "\u001b[1m1753/1753\u001b[0m \u001b[32m━━━━━━━━━━━━━━━━━━━━\u001b[0m\u001b[37m\u001b[0m \u001b[1m5s\u001b[0m 3ms/step - loss: -69.8402 - val_loss: -71.1242\n",
            "Epoch 3/20\n",
            "\u001b[1m1753/1753\u001b[0m \u001b[32m━━━━━━━━━━━━━━━━━━━━\u001b[0m\u001b[37m\u001b[0m \u001b[1m5s\u001b[0m 3ms/step - loss: -70.0957 - val_loss: -72.1317\n",
            "Epoch 4/20\n",
            "\u001b[1m1753/1753\u001b[0m \u001b[32m━━━━━━━━━━━━━━━━━━━━\u001b[0m\u001b[37m\u001b[0m \u001b[1m6s\u001b[0m 3ms/step - loss: -71.5460 - val_loss: -72.9137\n",
            "Epoch 5/20\n",
            "\u001b[1m1753/1753\u001b[0m \u001b[32m━━━━━━━━━━━━━━━━━━━━\u001b[0m\u001b[37m\u001b[0m \u001b[1m5s\u001b[0m 3ms/step - loss: -72.6298 - val_loss: -73.4540\n",
            "Epoch 6/20\n",
            "\u001b[1m1753/1753\u001b[0m \u001b[32m━━━━━━━━━━━━━━━━━━━━\u001b[0m\u001b[37m\u001b[0m \u001b[1m6s\u001b[0m 4ms/step - loss: -72.7745 - val_loss: -74.2154\n",
            "Epoch 7/20\n",
            "\u001b[1m1753/1753\u001b[0m \u001b[32m━━━━━━━━━━━━━━━━━━━━\u001b[0m\u001b[37m\u001b[0m \u001b[1m5s\u001b[0m 3ms/step - loss: -74.0318 - val_loss: -74.7731\n",
            "Epoch 8/20\n",
            "\u001b[1m1753/1753\u001b[0m \u001b[32m━━━━━━━━━━━━━━━━━━━━\u001b[0m\u001b[37m\u001b[0m \u001b[1m5s\u001b[0m 3ms/step - loss: -74.6583 - val_loss: -75.4564\n",
            "Epoch 9/20\n",
            "\u001b[1m1753/1753\u001b[0m \u001b[32m━━━━━━━━━━━━━━━━━━━━\u001b[0m\u001b[37m\u001b[0m \u001b[1m10s\u001b[0m 3ms/step - loss: -75.4585 - val_loss: -76.3250\n",
            "Epoch 10/20\n",
            "\u001b[1m1753/1753\u001b[0m \u001b[32m━━━━━━━━━━━━━━━━━━━━\u001b[0m\u001b[37m\u001b[0m \u001b[1m6s\u001b[0m 3ms/step - loss: -76.1726 - val_loss: -76.9047\n",
            "Epoch 11/20\n",
            "\u001b[1m1753/1753\u001b[0m \u001b[32m━━━━━━━━━━━━━━━━━━━━\u001b[0m\u001b[37m\u001b[0m \u001b[1m10s\u001b[0m 3ms/step - loss: -76.8634 - val_loss: -76.6969\n",
            "Epoch 12/20\n",
            "\u001b[1m1753/1753\u001b[0m \u001b[32m━━━━━━━━━━━━━━━━━━━━\u001b[0m\u001b[37m\u001b[0m \u001b[1m5s\u001b[0m 3ms/step - loss: -77.6489 - val_loss: -77.6415\n",
            "Epoch 13/20\n",
            "\u001b[1m1753/1753\u001b[0m \u001b[32m━━━━━━━━━━━━━━━━━━━━\u001b[0m\u001b[37m\u001b[0m \u001b[1m5s\u001b[0m 3ms/step - loss: -77.7476 - val_loss: -78.2195\n",
            "Epoch 14/20\n",
            "\u001b[1m1753/1753\u001b[0m \u001b[32m━━━━━━━━━━━━━━━━━━━━\u001b[0m\u001b[37m\u001b[0m \u001b[1m6s\u001b[0m 3ms/step - loss: -77.7838 - val_loss: -78.5926\n",
            "Epoch 15/20\n",
            "\u001b[1m1753/1753\u001b[0m \u001b[32m━━━━━━━━━━━━━━━━━━━━\u001b[0m\u001b[37m\u001b[0m \u001b[1m11s\u001b[0m 3ms/step - loss: -78.3981 - val_loss: -79.0230\n",
            "Epoch 16/20\n",
            "\u001b[1m1753/1753\u001b[0m \u001b[32m━━━━━━━━━━━━━━━━━━━━\u001b[0m\u001b[37m\u001b[0m \u001b[1m5s\u001b[0m 3ms/step - loss: -79.0624 - val_loss: -79.7550\n",
            "Epoch 17/20\n",
            "\u001b[1m1753/1753\u001b[0m \u001b[32m━━━━━━━━━━━━━━━━━━━━\u001b[0m\u001b[37m\u001b[0m \u001b[1m10s\u001b[0m 3ms/step - loss: -78.9189 - val_loss: -80.0184\n",
            "Epoch 18/20\n",
            "\u001b[1m1753/1753\u001b[0m \u001b[32m━━━━━━━━━━━━━━━━━━━━\u001b[0m\u001b[37m\u001b[0m \u001b[1m5s\u001b[0m 3ms/step - loss: -79.8556 - val_loss: -79.8608\n",
            "Epoch 19/20\n",
            "\u001b[1m1753/1753\u001b[0m \u001b[32m━━━━━━━━━━━━━━━━━━━━\u001b[0m\u001b[37m\u001b[0m \u001b[1m10s\u001b[0m 3ms/step - loss: -80.1766 - val_loss: -80.6466\n",
            "Epoch 20/20\n",
            "\u001b[1m1753/1753\u001b[0m \u001b[32m━━━━━━━━━━━━━━━━━━━━\u001b[0m\u001b[37m\u001b[0m \u001b[1m10s\u001b[0m 3ms/step - loss: -80.4818 - val_loss: -80.1187\n"
          ]
        },
        {
          "output_type": "execute_result",
          "data": {
            "text/plain": [
              "<keras.src.callbacks.history.History at 0x7854a456b010>"
            ]
          },
          "metadata": {},
          "execution_count": 39
        }
      ]
    },
    {
      "cell_type": "code",
      "source": [
        "import matplotlib.pyplot as plt\n",
        "from sklearn.manifold import TSNE\n",
        "\n",
        "z_mean, _, _ = encoder.predict(X_test, batch_size=32)\n",
        "z_tsne = TSNE(n_components=2).fit_transform(z_mean)\n",
        "\n",
        "plt.scatter(z_tsne[:, 0], z_tsne[:, 1], s=2)\n",
        "plt.title(\"Latent Space Visualized with t-SNE (Unlabeled)\")\n",
        "plt.show()\n"
      ],
      "metadata": {
        "colab": {
          "base_uri": "https://localhost:8080/",
          "height": 469
        },
        "id": "1do9L0OXbm0_",
        "outputId": "cb6d6fea-f2fc-4d50-b281-3c456e290b33"
      },
      "execution_count": 41,
      "outputs": [
        {
          "output_type": "stream",
          "name": "stdout",
          "text": [
            "\u001b[1m487/487\u001b[0m \u001b[32m━━━━━━━━━━━━━━━━━━━━\u001b[0m\u001b[37m\u001b[0m \u001b[1m1s\u001b[0m 2ms/step\n"
          ]
        },
        {
          "output_type": "display_data",
          "data": {
            "text/plain": [
              "<Figure size 640x480 with 1 Axes>"
            ],
            "image/png": "[encoded data removed]"
          },
          "metadata": {}
        }
      ]
    },
    {
      "cell_type": "code",
      "source": [
        "def latent_traversal(decoder, latent_dim, steps=7):\n",
        "    z = np.zeros((1, latent_dim))\n",
        "    fig, axes = plt.subplots(latent_dim, steps, figsize=(steps, latent_dim))\n",
        "\n",
        "    for dim in range(latent_dim):\n",
        "        for i, val in enumerate(np.linspace(-3, 3, steps)):\n",
        "            z_copy = np.copy(z)\n",
        "            z_copy[0, dim] = val\n",
        "            img = decoder.predict(z_copy)[0].reshape(8, 8)\n",
        "            axes[dim, i].imshow(img, cmap='gray')\n",
        "            axes[dim, i].axis(\"off\")\n",
        "\n",
        "    plt.suptitle(\"Latent Space Traversal\", fontsize=14)\n",
        "    plt.tight_layout()\n",
        "    plt.show()\n",
        "\n",
        "latent_traversal(decoder, latent_dim=2)\n"
      ],
      "metadata": {
        "colab": {
          "base_uri": "https://localhost:8080/",
          "height": 460
        },
        "id": "RjSRyJEdc9yf",
        "outputId": "dda1eb41-9e36-410f-a4eb-21587667efdd"
      },
      "execution_count": 42,
      "outputs": [
        {
          "output_type": "stream",
          "name": "stdout",
          "text": [
            "\u001b[1m1/1\u001b[0m \u001b[32m━━━━━━━━━━━━━━━━━━━━\u001b[0m\u001b[37m\u001b[0m \u001b[1m0s\u001b[0m 234ms/step\n",
            "\u001b[1m1/1\u001b[0m \u001b[32m━━━━━━━━━━━━━━━━━━━━\u001b[0m\u001b[37m\u001b[0m \u001b[1m0s\u001b[0m 28ms/step\n",
            "\u001b[1m1/1\u001b[0m \u001b[32m━━━━━━━━━━━━━━━━━━━━\u001b[0m\u001b[37m\u001b[0m \u001b[1m0s\u001b[0m 28ms/step\n",
            "\u001b[1m1/1\u001b[0m \u001b[32m━━━━━━━━━━━━━━━━━━━━\u001b[0m\u001b[37m\u001b[0m \u001b[1m0s\u001b[0m 27ms/step\n",
            "\u001b[1m1/1\u001b[0m \u001b[32m━━━━━━━━━━━━━━━━━━━━\u001b[0m\u001b[37m\u001b[0m \u001b[1m0s\u001b[0m 29ms/step\n",
            "\u001b[1m1/1\u001b[0m \u001b[32m━━━━━━━━━━━━━━━━━━━━\u001b[0m\u001b[37m\u001b[0m \u001b[1m0s\u001b[0m 27ms/step\n",
            "\u001b[1m1/1\u001b[0m \u001b[32m━━━━━━━━━━━━━━━━━━━━\u001b[0m\u001b[37m\u001b[0m \u001b[1m0s\u001b[0m 27ms/step\n",
            "\u001b[1m1/1\u001b[0m \u001b[32m━━━━━━━━━━━━━━━━━━━━\u001b[0m\u001b[37m\u001b[0m \u001b[1m0s\u001b[0m 28ms/step\n",
            "\u001b[1m1/1\u001b[0m \u001b[32m━━━━━━━━━━━━━━━━━━━━\u001b[0m\u001b[37m\u001b[0m \u001b[1m0s\u001b[0m 31ms/step\n",
            "\u001b[1m1/1\u001b[0m \u001b[32m━━━━━━━━━━━━━━━━━━━━\u001b[0m\u001b[37m\u001b[0m \u001b[1m0s\u001b[0m 28ms/step\n",
            "\u001b[1m1/1\u001b[0m \u001b[32m━━━━━━━━━━━━━━━━━━━━\u001b[0m\u001b[37m\u001b[0m \u001b[1m0s\u001b[0m 28ms/step\n",
            "\u001b[1m1/1\u001b[0m \u001b[32m━━━━━━━━━━━━━━━━━━━━\u001b[0m\u001b[37m\u001b[0m \u001b[1m0s\u001b[0m 27ms/step\n",
            "\u001b[1m1/1\u001b[0m \u001b[32m━━━━━━━━━━━━━━━━━━━━\u001b[0m\u001b[37m\u001b[0m \u001b[1m0s\u001b[0m 31ms/step\n",
            "\u001b[1m1/1\u001b[0m \u001b[32m━━━━━━━━━━━━━━━━━━━━\u001b[0m\u001b[37m\u001b[0m \u001b[1m0s\u001b[0m 27ms/step\n"
          ]
        },
        {
          "output_type": "display_data",
          "data": {
            "text/plain": [
              "<Figure size 700x200 with 14 Axes>"
            ],
            "image/png": "[encoded data removed]"
          },
          "metadata": {}
        }
      ]
    }
  ]
}